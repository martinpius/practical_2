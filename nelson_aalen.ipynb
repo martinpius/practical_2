{
 "cells": [
  {
   "cell_type": "code",
   "execution_count": 7,
   "metadata": {},
   "outputs": [],
   "source": [
    "import matplotlib.pyplot as plt \n",
    "from typing import Dict, List, Tuple\n",
    "import pandas as pd\n",
    "import math\n",
    "import warnings\n",
    "warnings.filterwarnings(action = \"ignore\")"
   ]
  },
  {
   "cell_type": "markdown",
   "metadata": {},
   "source": [
    "* NOTE:  If you have a real dataset you may replace this one: I kept simple for illustration \n",
    " only. We use the same 'toy' dataset as in previous class."
   ]
  },
  {
   "cell_type": "markdown",
   "metadata": {},
   "source": []
  },
  {
   "cell_type": "code",
   "execution_count": 8,
   "metadata": {},
   "outputs": [],
   "source": [
    "# Entering the toy dataset we've used in the class \n",
    "data: Dict[str, List] = {\n",
    "    'id': [1,2,3,4,5,6,7,8,9,10,11,12,13,14,15,16,17,18,19,20,21],\n",
    "    \"surv1\": [6,6,6,7,10,13,16,22,23,6,9,10,11,17,19,20,25,32,32,34,35],\n",
    "    \"delta1\": [1,1,1,1,1,1,1,1,1,0,0,0,0,0,0,0,0,0,0,0,0],\n",
    "    \"surv2\": [1,2,3,4,5,8,8,11,12,15,17,12,23,1,2,4,5,8,8,11,12],\n",
    "    \"delta2\": [1,1,1,1,1,1,1,1,1,1,1,1,1,0,0,0,0,0,0,0,0]}"
   ]
  },
  {
   "cell_type": "code",
   "execution_count": 9,
   "metadata": {},
   "outputs": [],
   "source": [
    "def _build(data: Dict[str, List[float]] = data) -> pd.DataFrame:\n",
    "    '''\n",
    "    @Martin\n",
    "    ------------\n",
    "    This method prepare a simple 'toy' survival data for 2 groups\n",
    "\n",
    "    Argument\n",
    "    ---------\n",
    "    data: Dict[str, List]:-> survival information for the groups\n",
    "\n",
    "    Return\n",
    "    --------\n",
    "    pd.DataFrame: Survival data in Pandas dataframe.\n",
    "    '''\n",
    "\n",
    "    return pd.DataFrame(data)\n"
   ]
  },
  {
   "cell_type": "code",
   "execution_count": null,
   "metadata": {},
   "outputs": [],
   "source": []
  },
  {
   "cell_type": "markdown",
   "metadata": {},
   "source": [
    "* Note: This is a naive computation of the NA estimator. \n",
    "* Results may differ by a small margin when compared to other packages.\""
   ]
  },
  {
   "cell_type": "markdown",
   "metadata": {},
   "source": []
  },
  {
   "cell_type": "code",
   "execution_count": 10,
   "metadata": {},
   "outputs": [],
   "source": [
    "def NelsonAalen_raw(df: pd.DataFrame, \n",
    "                    group: str = \"g1\") -> Tuple[List, List, List, List]:\n",
    "\n",
    "    '''\n",
    "    @Martin\n",
    "    --------\n",
    "    # This Method compute the Nelson Aalen Estimator in the raw-form using the formula\n",
    "    # given as NA = \\sum_{tf \\le t} \\left( d_t / n_t\\right) where, d_t: # of events at time t\n",
    "    # and n_t: # of subjects remain at risk by time t\n",
    "\n",
    "    Argument\n",
    "    --------\n",
    "    data: pd.DataFrame with respective data for both groups\n",
    "    group: str: Default == group1 (\"g1)\n",
    "\n",
    "    Return\n",
    "    -------\n",
    "    (na, event_times): Tuple of 2 lists, na ==> NA estimators (CHF), event_times==> event times\n",
    "    \n",
    "    '''\n",
    "    \n",
    "    event_times = [0] # assuming we start the study at time 0 \n",
    "    h0 = 0 # In the begining NE estimator is 0. No event yet \n",
    "    na = [h0] # The list to be updated\n",
    "    ri = [21] # The risk set\n",
    "    mi = [0] # death/failure\n",
    "\n",
    "\n",
    "    st_1 = sorted(df.surv1.unique()) # Remove ties and sort in ascending order\n",
    "    st_2 = sorted(df.surv2.unique())\n",
    "\n",
    "    if group == \"g1\": \n",
    "\n",
    "        for t in st_1: # iterating through time to compute the NE\n",
    "            # compute n_t, number of people who survive at least to time t\n",
    "            n_t = len(df[df.surv1 >= t])\n",
    "        \n",
    "            # compute d_t, number of people who die at time t\n",
    "            d_t = len(df[(df.surv1 == t) & (df.delta1 == 1)])\n",
    "            \n",
    "            #update the risk ==> Cumulative Hazard Funcion\n",
    "            h0+=float(d_t / n_t)\n",
    "\n",
    "            # update the events_times\n",
    "            event_times.append(t)\n",
    "            na.append(h0)\n",
    "            ri.append(n_t)\n",
    "            mi.append(d_t)\n",
    "    else:\n",
    "\n",
    "        for t in st_2:\n",
    "\n",
    "            n_t = len(df[df.surv2 >= t])\n",
    "\n",
    "            d_t = len(df[(df.surv2 == t) & (df.delta2 == 1)])\n",
    "\n",
    "            h0+= float(d_t / n_t)\n",
    "\n",
    "            event_times.append(t)\n",
    "\n",
    "            na.append(h0)\n",
    "            ri.append(n_t)\n",
    "            mi.append(d_t)\n",
    "    \n",
    "    return (na, event_times, ri, mi)"
   ]
  },
  {
   "cell_type": "code",
   "execution_count": 17,
   "metadata": {},
   "outputs": [],
   "source": [
    "def plot_CHF(kind: str = \"CHF\") -> None:\n",
    "    \n",
    "    '''\n",
    "    @Martin\n",
    "    ----------\n",
    "    This module plot the cummulative hazard functions (CHF) for the two groups\n",
    "    We also approximate the survival functions using the relation: [S_t = exp(-CHF)]\n",
    "    and plot them\n",
    "\n",
    "    Argument:\n",
    "    -----------\n",
    "    kind: str : Default ==> CHF ==> will plot CHF curves\n",
    "    '''\n",
    "\n",
    "    df = _build()\n",
    "    res  = NelsonAalen_raw(df = df, group = \"g1\")\n",
    "    na1, event_times1, _, _ = res\n",
    "    res2 = NelsonAalen_raw(df = df, group = \"g2\")\n",
    "    na2, event_times2,_,_ = res2\n",
    "    s1 = [math.exp(-c) for c in na1]\n",
    "    s2 = [math.exp(-j) for j in na2]\n",
    "    plt.figure(figsize = (10, 4))\n",
    "\n",
    "    if kind == \"CHF\":\n",
    "        plt.figure(figsize = (10,4))\n",
    "        plt.plot(event_times1, na1, color = \"fuchsia\", linewidth = 4.5, label = \"group1_CHF\")\n",
    "        plt.plot(event_times2, na2, color = \"blue\",linewidth = 4.5, label = \"group2_CHF\")\n",
    "        plt.title(\"Cummulative hazards plot (Naive Nelson Aalen Estimators)\")\n",
    "        plt.xlabel(\"Event times\")\n",
    "        plt.ylabel(\"Cummulative hazard (NA-estimator)\")\n",
    "    else:\n",
    "        plt.figure(figsize = (10, 4))\n",
    "        plt.step(event_times1, s1, color = \"red\", label = \"group1_survival\")\n",
    "        plt.step(event_times2, s2, color = \"gray\", label = \"group2_survival\")\n",
    "        plt.title(\"Survival curves derived from NA for the two groups\")\n",
    "        plt.xlabel(\"survival time in 'month'\")\n",
    "        plt.ylabel(\"Survival probability-(exp(-CHF))\")\n",
    "    plt.legend(loc = \"best\")\n",
    "    plt.show()\n"
   ]
  },
  {
   "cell_type": "code",
   "execution_count": 18,
   "metadata": {},
   "outputs": [
    {
     "name": "stdout",
     "output_type": "stream",
     "text": [
      "\n",
      "-------------------------------------\n",
      "    id  surv1  delta1  surv2  delta2\n",
      "0    1      6       1      1       1\n",
      "1    2      6       1      2       1\n",
      "2    3      6       1      3       1\n",
      "3    4      7       1      4       1\n",
      "4    5     10       1      5       1\n",
      "5    6     13       1      8       1\n",
      "6    7     16       1      8       1\n",
      "7    8     22       1     11       1\n",
      "8    9     23       1     12       1\n",
      "9   10      6       0     15       1\n",
      "10  11      9       0     17       1\n",
      "11  12     10       0     12       1\n",
      "12  13     11       0     23       1\n",
      "13  14     17       0      1       0\n",
      "14  15     19       0      2       0\n",
      "15  16     20       0      4       0\n",
      "16  17     25       0      5       0\n",
      "17  18     32       0      8       0\n",
      "18  19     32       0      8       0\n",
      "19  20     34       0     11       0\n",
      "20  21     35       0     12       0\n",
      "\n",
      "-------------------------------------\n",
      "\n",
      "-------------------------------------\n",
      "[0, 0.14285714285714285, 0.20168067226890757, 0.20168067226890757, 0.2683473389355742, 0.2683473389355742, 0.35168067226890753, 0.4425897631779985, 0.4425897631779985, 0.4425897631779985, 0.4425897631779985, 0.5854469060351413, 0.7521135727018079, 0.7521135727018079, 0.7521135727018079, 0.7521135727018079, 0.7521135727018079]\n",
      "\n",
      "-------------------------------------\n",
      "[0, 6, 7, 9, 10, 11, 13, 16, 17, 19, 20, 22, 23, 25, 32, 34, 35]\n",
      "\n",
      "-------------------------------------\n",
      "[0, 0.047619047619047616, 0.10025062656641603, 0.15907415597818075, 0.22157415597818075, 0.29300272740675215, 0.4596693940734188, 0.5846693940734188, 0.9180027274067522, 1.2513360607400854, 1.7513360607400854, 2.751336060740085]\n",
      "The survival probabilities: [1.0, 0.9534969548334767, 0.9046106701564206, 0.8529331065350496, 0.8012565019851036, 0.7460201059941723, 0.6314923861250258, 0.5572900747610906, 0.3993157876383292, 0.28612226464929696, 0.1735419259362108, 0.06384250673322907]\n",
      "\n",
      "-------------------------------------\n",
      "[0, 1, 2, 3, 4, 5, 8, 11, 12, 15, 17, 23]\n",
      "\n",
      "-------------------------------------\n"
     ]
    },
    {
     "data": {
      "text/plain": [
       "<Figure size 1000x400 with 0 Axes>"
      ]
     },
     "metadata": {},
     "output_type": "display_data"
    },
    {
     "data": {
      "image/png": "[encoded data removed]",
      "text/plain": [
       "<Figure size 1000x400 with 1 Axes>"
      ]
     },
     "metadata": {},
     "output_type": "display_data"
    }
   ],
   "source": [
    "# Print and plotting some results:\n",
    "if __name__ == \"__main__\":\n",
    "    data = _build()\n",
    "    print(f\"\\n-------------------------------------\")\n",
    "    print(data)\n",
    "    print(f\"\\n-------------------------------------\")\n",
    "    res1 = NelsonAalen_raw(df = data)\n",
    "    na, event_times,_,_ = res1\n",
    "    print(f\"\\n-------------------------------------\")\n",
    "    print(na)\n",
    "    print(f\"\\n-------------------------------------\")\n",
    "    print(event_times)\n",
    "    print(f\"\\n-------------------------------------\")\n",
    "    res2 = NelsonAalen_raw(df = data, group= \"g2\")\n",
    "    na, event_times,_,_ = res2\n",
    "    print(na)\n",
    "    print(f\"The survival probabilities: {[math.exp(-chf) for chf in na]}\")\n",
    "    print(f\"\\n-------------------------------------\")\n",
    "    print(event_times)\n",
    "    print(f\"\\n-------------------------------------\")\n",
    "    plot_CHF(kind = \"CHF\")"
   ]
  },
  {
   "cell_type": "markdown",
   "metadata": {},
   "source": [
    "* # Comment on the above plot\n",
    "* Answer here ..."
   ]
  },
  {
   "cell_type": "markdown",
   "metadata": {},
   "source": []
  },
  {
   "cell_type": "code",
   "execution_count": 19,
   "metadata": {},
   "outputs": [
    {
     "name": "stdout",
     "output_type": "stream",
     "text": [
      "\n",
      "-------------------------------------------------------\n",
      ">>>> NA estimate for group 1: [0, 0.14285714285714285, 0.20168067226890757, 0.20168067226890757, 0.2683473389355742, 0.2683473389355742, 0.35168067226890753, 0.4425897631779985, 0.4425897631779985, 0.4425897631779985, 0.4425897631779985, 0.5854469060351413, 0.7521135727018079, 0.7521135727018079, 0.7521135727018079, 0.7521135727018079, 0.7521135727018079]      \n",
      ">>>> NA estimate for group 2: [0, 0.047619047619047616, 0.10025062656641603, 0.15907415597818075, 0.22157415597818075, 0.29300272740675215, 0.4596693940734188, 0.5846693940734188, 0.9180027274067522, 1.2513360607400854, 1.7513360607400854, 2.751336060740085]\n",
      "\n",
      "-------------------------------------------------------\n"
     ]
    }
   ],
   "source": [
    "# Print out the NA estimator for each group\n",
    "print(f\"\\n-------------------------------------------------------\")\n",
    "res1 = NelsonAalen_raw(df = data)\n",
    "na1, _,_,_ = res1\n",
    "res2 = NelsonAalen_raw(df = data, group = \"g2\")\n",
    "na2, _,_,_ = res2\n",
    "print(f\">>>> NA estimate for group 1: {na1}\\\n",
    "      \\n>>>> NA estimate for group 2: {na2}\")\n",
    "print(f\"\\n-------------------------------------------------------\")"
   ]
  },
  {
   "cell_type": "code",
   "execution_count": null,
   "metadata": {},
   "outputs": [],
   "source": []
  }
 ],
 "metadata": {
  "kernelspec": {
   "display_name": "NEXTGENERATION_AI",
   "language": "python",
   "name": "python3"
  },
  "language_info": {
   "codemirror_mode": {
    "name": "ipython",
    "version": 3
   },
   "file_extension": ".py",
   "mimetype": "text/x-python",
   "name": "python",
   "nbconvert_exporter": "python",
   "pygments_lexer": "ipython3",
   "version": "3.12.3"
  }
 },
 "nbformat": 4,
 "nbformat_minor": 2
}
