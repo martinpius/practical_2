{
 "cells": [
  {
   "cell_type": "code",
   "execution_count": null,
   "metadata": {},
   "outputs": [],
   "source": [
    "# Load the dependency packages and methods\n",
    "import pandas as pd \n",
    "import matplotlib.pyplot as plt \n",
    "from nelson_aalen import _build\n",
    "\n",
    "##################################################################################################\n",
    "'''\n",
    "Assignment 1.\n",
    "\n",
    "Use programming language and mathematical logic of your choice to \n",
    "Impliment a method to carry-out the Log-rank test for two survival curves\n",
    "- Load the toy dataset from the _build module\n",
    "- Compute the test statistic and the p-value [You may read from the chi-square table]\n",
    "- Discuss your findings.\n",
    "\n",
    "Note: Deadline ==> Last submission date: 28-04-2024 00:00:00 [mid-night]\n",
    "Submit your assignment via the course website [Piazza]\n",
    " To do this: Visit the class website. Go to Q&A, click assignment_1, on the left click \n",
    " create new post and upload your assignment [upload your file and post to submit] \n",
    "'''\n",
    "###################################################################################################"
   ]
  },
  {
   "cell_type": "code",
   "execution_count": null,
   "metadata": {},
   "outputs": [],
   "source": [
    "def logrank(a =\"arg1\", b = \"arg2\", c = \"etc\"):\n",
    "    '''\n",
    "    Your name and registration number\n",
    "    ---------------------------------\n",
    "\n",
    "    describe your implementation\n",
    "    '''\n",
    "    # implement the log-rank method\n",
    "    pass\n",
    "\n",
    "\n"
   ]
  }
 ],
 "metadata": {
  "language_info": {
   "name": "python"
  }
 },
 "nbformat": 4,
 "nbformat_minor": 2
}
